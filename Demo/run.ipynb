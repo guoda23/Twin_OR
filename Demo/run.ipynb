{
 "cells": [
  {
   "cell_type": "code",
   "execution_count": 1,
   "id": "ec26afc4-ee84-453b-ae20-cb8444260814",
   "metadata": {},
   "outputs": [],
   "source": [
    "from OR_simulator import ORSimulator"
   ]
  },
  {
   "cell_type": "code",
   "execution_count": 2,
   "id": "20c4b428-b24a-4cb3-bae6-5bd121c202cf",
   "metadata": {
    "scrolled": true
   },
   "outputs": [
    {
     "name": "stderr",
     "output_type": "stream",
     "text": [
      "* Owlready2 * Running HermiT...\n",
      "    java -Xmx2000M -cp /home/guoda/anaconda3/lib/python3.9/site-packages/owlready2/hermit:/home/guoda/anaconda3/lib/python3.9/site-packages/owlready2/hermit/HermiT.jar org.semanticweb.HermiT.cli.CommandLine -c -O -D -I file:////tmp/tmpnuj6j6yz -Y\n",
      "* Owlready2 * HermiT took 0.8173017501831055 seconds\n",
      "* Owlready * Reparenting or_ontology.hasVisionCapability: {or_ontology.hasCapability, owl.ObjectProperty} => {or_ontology.hasCapability}\n",
      "* Owlready * Reparenting or_ontology.hasManipulationCapability: {or_ontology.hasCapability, owl.ObjectProperty} => {or_ontology.hasCapability}\n",
      "* Owlready * Reparenting or_ontology.performer: {owl.ObjectProperty, or_ontology.actor} => {or_ontology.actor}\n",
      "* Owlready * Reparenting or_ontology.supportingTeamMember: {owl.ObjectProperty, or_ontology.actor} => {or_ontology.actor}\n",
      "* Owlready * Reparenting or_ontology.phaseStartStep: {owl.ObjectProperty, or_ontology.hasStep} => {or_ontology.hasStep}\n",
      "* Owlready * (NB: only changes on entities loaded in Python are shown, other changes are done but not listed)\n"
     ]
    },
    {
     "name": "stdout",
     "output_type": "stream",
     "text": [
      "\n",
      "Let's begin the procedure. We're starting with phase 1, Preparation.\n",
      "The first steps are Note Taking and Gather Tools\n",
      "Performing steps: Note Taking and Gather Tools...\n",
      "Looks like you've fixed the issue!\n",
      "Performing steps: Gather Materials and Note Taking...\n",
      "Looks like you've fixed the issue!\n",
      "Performing steps: Organize Materials and Note Taking...\n",
      "Current phase (Preparation), is complete.\n",
      "\n",
      "\n",
      "Proceeding from phase 1 to phase 2, namely Initial Assembly.\n",
      "Performing steps: Identify Correct Lego and Note Taking...\n"
     ]
    },
    {
     "ename": "KeyboardInterrupt",
     "evalue": "",
     "output_type": "error",
     "traceback": [
      "\u001b[0;31m---------------------------------------------------------------------------\u001b[0m",
      "\u001b[0;31mKeyboardInterrupt\u001b[0m                         Traceback (most recent call last)",
      "\u001b[0;32m/tmp/ipykernel_12566/1437863030.py\u001b[0m in \u001b[0;36m<module>\u001b[0;34m\u001b[0m\n\u001b[1;32m      2\u001b[0m \u001b[0;34m\u001b[0m\u001b[0m\n\u001b[1;32m      3\u001b[0m \u001b[0;31m# Run a method to test the class\u001b[0m\u001b[0;34m\u001b[0m\u001b[0;34m\u001b[0m\u001b[0m\n\u001b[0;32m----> 4\u001b[0;31m \u001b[0msimulator\u001b[0m\u001b[0;34m.\u001b[0m\u001b[0mrun_simulation\u001b[0m\u001b[0;34m(\u001b[0m\u001b[0;34m)\u001b[0m\u001b[0;34m\u001b[0m\u001b[0;34m\u001b[0m\u001b[0m\n\u001b[0m",
      "\u001b[0;32m~/programming/hybrid_int_project/demo/orsimulator_once_reasoned.py\u001b[0m in \u001b[0;36mrun_simulation\u001b[0;34m(self)\u001b[0m\n\u001b[1;32m    314\u001b[0m \u001b[0;34m\u001b[0m\u001b[0m\n\u001b[1;32m    315\u001b[0m             \u001b[0;31m#wait a time period before new sensor data\u001b[0m\u001b[0;34m\u001b[0m\u001b[0;34m\u001b[0m\u001b[0m\n\u001b[0;32m--> 316\u001b[0;31m             \u001b[0mtime\u001b[0m\u001b[0;34m.\u001b[0m\u001b[0msleep\u001b[0m\u001b[0;34m(\u001b[0m\u001b[0mself\u001b[0m\u001b[0;34m.\u001b[0m\u001b[0mdata_generation_interval\u001b[0m\u001b[0;34m)\u001b[0m\u001b[0;34m\u001b[0m\u001b[0;34m\u001b[0m\u001b[0m\n\u001b[0m\u001b[1;32m    317\u001b[0m \u001b[0;34m\u001b[0m\u001b[0m\n",
      "\u001b[0;31mKeyboardInterrupt\u001b[0m: "
     ]
    }
   ],
   "source": [
    "simulator = ORSimulator('or_ontology.owl', 'SHACL_constraints.ttl')\n",
    "\n",
    "# Run a method to test the class\n",
    "simulator.run_simulation()"
   ]
  }
 ],
 "metadata": {
  "kernelspec": {
   "display_name": "Python 3 (ipykernel)",
   "language": "python",
   "name": "python3"
  },
  "language_info": {
   "codemirror_mode": {
    "name": "ipython",
    "version": 3
   },
   "file_extension": ".py",
   "mimetype": "text/x-python",
   "name": "python",
   "nbconvert_exporter": "python",
   "pygments_lexer": "ipython3",
   "version": "3.9.13"
  }
 },
 "nbformat": 4,
 "nbformat_minor": 5
}
